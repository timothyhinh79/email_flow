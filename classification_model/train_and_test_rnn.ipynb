{
 "cells": [
  {
   "cell_type": "code",
   "execution_count": null,
   "metadata": {},
   "outputs": [],
   "source": [
    "import pandas as pd\n",
    "import numpy as np\n",
    "\n",
    "from sklearn.model_selection import StratifiedKFold\n",
    "import tensorflow as tf\n",
    "from tensorflow.keras import layers\n",
    "from tensorflow.keras.layers import TextVectorization"
   ]
  },
  {
   "cell_type": "code",
   "execution_count": null,
   "metadata": {},
   "outputs": [],
   "source": [
    "### Load data\n",
    "\n",
    "# Load training data into dataframe\n",
    "df = pd.read_csv('data/financial_transactions_training_dataset.csv')\n",
    "\n",
    "# Define the number of folds\n",
    "n_folds = 5\n",
    "\n",
    "# Assuming you have a pandas DataFrame `df` with 'description' and 'category' columns\n",
    "descriptions = df['description'].values\n",
    "categories = df['category'].values\n",
    "\n",
    "# Convert categories to integers\n",
    "categories_num_map = {\n",
    "        'Food': 0, 'Personal & Miscellaneous': 1, 'Savings & Investments': 2,\n",
    "        'Entertainment': 3, 'Education': 4, 'Living Expenses': 5,\n",
    "        'Transportation': 6, 'Healthcare': 7, 'Travel': 8,\n",
    "    }\n",
    "categories_text = list(categories_num_map.keys())\n",
    "categories = np.array([categories_num_map[cat] for cat in categories])\n",
    "# categories, categories_text = pd.factorize(categories)"
   ]
  },
  {
   "cell_type": "code",
   "execution_count": null,
   "metadata": {},
   "outputs": [],
   "source": [
    "### Test model using k-fold cross-validation\n",
    "\n",
    "# Create a StratifiedKFold object\n",
    "skf = StratifiedKFold(n_splits=n_folds, shuffle=True, random_state=42)\n",
    "\n",
    "# Initialize results\n",
    "scores = []\n",
    "\n",
    "# Loop over the folds\n",
    "for train_index, test_index in skf.split(descriptions, categories):\n",
    "    descriptions_train, descriptions_test = descriptions[train_index], descriptions[test_index]\n",
    "    categories_train, categories_test = categories[train_index], categories[test_index]\n",
    "\n",
    "    # Create a TextVectorization layer\n",
    "    vectorizer = TextVectorization(output_mode='int')\n",
    "    vectorizer.adapt(descriptions_train)\n",
    "\n",
    "    # Create the model\n",
    "    model = tf.keras.models.Sequential([\n",
    "        vectorizer,\n",
    "        layers.Embedding(input_dim=len(vectorizer.get_vocabulary()), output_dim=64, mask_zero=True),\n",
    "        layers.Bidirectional(layers.LSTM(64)),\n",
    "        layers.Dense(32, activation='relu'),\n",
    "        layers.Dense(len(np.unique(categories_text)), activation='softmax')\n",
    "    ])\n",
    "\n",
    "    # Compile the model\n",
    "    model.compile(loss='sparse_categorical_crossentropy', optimizer='adam', metrics=['accuracy'])\n",
    "\n",
    "    # Train the model\n",
    "    model.fit(descriptions_train, categories_train, epochs=10, validation_data=(descriptions_test, categories_test))\n",
    "\n",
    "    # Evaluate the model\n",
    "    score = model.evaluate(descriptions_test, categories_test, verbose=0)\n",
    "    scores.append(score)\n",
    "\n",
    "# Print the mean score\n",
    "accuracies = [score[1] for score in scores]\n",
    "print('Accuracies for each fold: ', accuracies)\n",
    "print('Mean Accuracy: ', np.mean(accuracies))\n"
   ]
  },
  {
   "cell_type": "code",
   "execution_count": null,
   "metadata": {},
   "outputs": [],
   "source": [
    "### Train RNN model on entire dataset, then save\n",
    "\n",
    "# Create a TextVectorization layer\n",
    "vectorizer = TextVectorization(output_mode='int')\n",
    "vectorizer.adapt(descriptions)\n",
    "\n",
    "# Create the model\n",
    "model = tf.keras.models.Sequential([\n",
    "    vectorizer,\n",
    "    layers.Embedding(input_dim=len(vectorizer.get_vocabulary()), output_dim=64, mask_zero=True),\n",
    "    layers.Bidirectional(layers.LSTM(64)),\n",
    "    layers.Dense(32, activation='relu'),\n",
    "    layers.Dense(len(np.unique(categories_text)), activation='softmax')\n",
    "])\n",
    "\n",
    "# Compile and fit the model\n",
    "model.compile(loss='sparse_categorical_crossentropy', optimizer='adam', metrics=['accuracy'])\n",
    "model.fit(descriptions, categories, epochs=10)\n",
    "\n",
    "# Save the model\n",
    "model.save('./models/financial_transactions_categorization_rnn_model.keras')"
   ]
  },
  {
   "cell_type": "code",
   "execution_count": null,
   "metadata": {},
   "outputs": [],
   "source": [
    "# Import saved model and make predictions\n",
    "model = tf.keras.models.load_model('./models/financial_transactions_categorization_rnn_model.keras')\n",
    "test_descriptions = ['Rent', 'Chipotle', 'Pizza', 'McDonalds', 'Food', 'Thai Food', 'PAYPAL  TWITCHINTER', 'Persona 3 Reload', 'WEX INC DIRECT DEP']\n",
    "predictions = model.predict(test_descriptions)\n",
    "predicted_categories = [categories_text[prediction.argmax(axis=-1)] for prediction in predictions]\n",
    "for desc, pred in zip(test_descriptions, predicted_categories):\n",
    "    print(f'{desc}: {pred}')"
   ]
  }
 ],
 "metadata": {
  "kernelspec": {
   "display_name": "venv",
   "language": "python",
   "name": "python3"
  },
  "language_info": {
   "codemirror_mode": {
    "name": "ipython",
    "version": 3
   },
   "file_extension": ".py",
   "mimetype": "text/x-python",
   "name": "python",
   "nbconvert_exporter": "python",
   "pygments_lexer": "ipython3",
   "version": "3.10.12"
  }
 },
 "nbformat": 4,
 "nbformat_minor": 2
}
